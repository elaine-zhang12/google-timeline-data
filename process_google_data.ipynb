{
 "cells": [
  {
   "cell_type": "markdown",
   "metadata": {},
   "source": [
    "# Process Google Timeline Data"
   ]
  },
  {
   "cell_type": "code",
   "execution_count": 12,
   "metadata": {},
   "outputs": [],
   "source": [
    "# VARIABLES\n",
    "json_file = \"EZ_data/location-history.json\""
   ]
  },
  {
   "cell_type": "code",
   "execution_count": 1,
   "metadata": {},
   "outputs": [],
   "source": [
    "import json\n",
    "import pandas as pd\n",
    "import numpy as np\n",
    "import requests\n",
    "from sklearn.cluster import DBSCAN\n",
    "from geopy.distance import great_circle\n",
    "from datetime import datetime"
   ]
  },
  {
   "cell_type": "code",
   "execution_count": null,
   "metadata": {},
   "outputs": [
    {
     "data": {
      "text/html": [
       "<div>\n",
       "<style scoped>\n",
       "    .dataframe tbody tr th:only-of-type {\n",
       "        vertical-align: middle;\n",
       "    }\n",
       "\n",
       "    .dataframe tbody tr th {\n",
       "        vertical-align: top;\n",
       "    }\n",
       "\n",
       "    .dataframe thead th {\n",
       "        text-align: right;\n",
       "    }\n",
       "</style>\n",
       "<table border=\"1\" class=\"dataframe\">\n",
       "  <thead>\n",
       "    <tr style=\"text-align: right;\">\n",
       "      <th></th>\n",
       "      <th>latitude</th>\n",
       "      <th>longitude</th>\n",
       "      <th>start_time</th>\n",
       "      <th>end_time</th>\n",
       "    </tr>\n",
       "  </thead>\n",
       "  <tbody>\n",
       "    <tr>\n",
       "      <th>0</th>\n",
       "      <td>38.028028</td>\n",
       "      <td>-78.508516</td>\n",
       "      <td>2025-02-12T17:56:54.000-05:00</td>\n",
       "      <td>2025-02-13T10:44:48.307-05:00</td>\n",
       "    </tr>\n",
       "    <tr>\n",
       "      <th>1</th>\n",
       "      <td>38.031619</td>\n",
       "      <td>-78.510846</td>\n",
       "      <td>2025-02-13T10:51:39.463-05:00</td>\n",
       "      <td>2025-02-13T12:31:04.514-05:00</td>\n",
       "    </tr>\n",
       "    <tr>\n",
       "      <th>2</th>\n",
       "      <td>38.031619</td>\n",
       "      <td>-78.510846</td>\n",
       "      <td>2025-02-13T10:51:39.463-05:00</td>\n",
       "      <td>2025-02-13T11:03:44.537-05:00</td>\n",
       "    </tr>\n",
       "    <tr>\n",
       "      <th>3</th>\n",
       "      <td>38.028028</td>\n",
       "      <td>-78.508516</td>\n",
       "      <td>2025-02-13T12:36:02.657-05:00</td>\n",
       "      <td>2025-02-13T16:04:27.150-05:00</td>\n",
       "    </tr>\n",
       "    <tr>\n",
       "      <th>4</th>\n",
       "      <td>38.052815</td>\n",
       "      <td>-78.501257</td>\n",
       "      <td>2025-02-13T16:15:59.999-05:00</td>\n",
       "      <td>2025-02-13T17:02:51.018-05:00</td>\n",
       "    </tr>\n",
       "  </tbody>\n",
       "</table>\n",
       "</div>"
      ],
      "text/plain": [
       "    latitude  longitude                     start_time  \\\n",
       "0  38.028028 -78.508516  2025-02-12T17:56:54.000-05:00   \n",
       "1  38.031619 -78.510846  2025-02-13T10:51:39.463-05:00   \n",
       "2  38.031619 -78.510846  2025-02-13T10:51:39.463-05:00   \n",
       "3  38.028028 -78.508516  2025-02-13T12:36:02.657-05:00   \n",
       "4  38.052815 -78.501257  2025-02-13T16:15:59.999-05:00   \n",
       "\n",
       "                        end_time  \n",
       "0  2025-02-13T10:44:48.307-05:00  \n",
       "1  2025-02-13T12:31:04.514-05:00  \n",
       "2  2025-02-13T11:03:44.537-05:00  \n",
       "3  2025-02-13T16:04:27.150-05:00  \n",
       "4  2025-02-13T17:02:51.018-05:00  "
      ]
     },
     "execution_count": 14,
     "metadata": {},
     "output_type": "execute_result"
    }
   ],
   "source": [
    "def load_google_timeline(json_file):\n",
    "    with open(json_file, \"r\", encoding=\"utf-8\") as file:\n",
    "        data = json.load(file)\n",
    "    \n",
    "    locations = []\n",
    "    for entry in data:\n",
    "        if \"visit\" in entry:\n",
    "            visit_info = entry[\"visit\"]\n",
    "            top_candidate = visit_info.get(\"topCandidate\", {})\n",
    "\n",
    "            if \"placeLocation\" in top_candidate:\n",
    "                latlon_str = top_candidate[\"placeLocation\"].replace(\"geo:\", \"\")\n",
    "                lat, lon = map(float, latlon_str.split(\",\")) \n",
    "                \n",
    "                start_time = entry.get(\"startTime\", \"\")\n",
    "                end_time = entry.get(\"endTime\", \"\")\n",
    "\n",
    "                locations.append((lat, lon, start_time, end_time))\n",
    "\n",
    "    return pd.DataFrame(locations, columns=[\"latitude\", \"longitude\", \"start_time\", \"end_time\"])\n",
    "\n",
    "\n",
    "df = load_google_timeline(json_file)\n",
    "df.head()"
   ]
  },
  {
   "cell_type": "code",
   "execution_count": null,
   "metadata": {},
   "outputs": [],
   "source": []
  }
 ],
 "metadata": {
  "kernelspec": {
   "display_name": "Python 3",
   "language": "python",
   "name": "python3"
  },
  "language_info": {
   "codemirror_mode": {
    "name": "ipython",
    "version": 3
   },
   "file_extension": ".py",
   "mimetype": "text/x-python",
   "name": "python",
   "nbconvert_exporter": "python",
   "pygments_lexer": "ipython3",
   "version": "3.12.7"
  }
 },
 "nbformat": 4,
 "nbformat_minor": 2
}
